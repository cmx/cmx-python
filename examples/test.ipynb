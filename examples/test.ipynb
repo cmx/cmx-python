{
 "cells": [
  {
   "cell_type": "code",
   "execution_count": null,
   "metadata": {
    "collapsed": true
   },
   "outputs": [],
   "source": []
  },
  {
   "cell_type": "code",
   "execution_count": null,
   "outputs": [],
   "source": [],
   "metadata": {
    "collapsed": false
   }
  },
  {
   "cell_type": "code",
   "execution_count": 1,
   "outputs": [],
   "source": [
    "import numpy as np\n",
    "\n",
    "\n",
    "def eulerToRotationMatrix(angles):\n",
    "    r = np.array([[np.cos(angles[2]) * np.cos(angles[1]), np.cos(angles[2]) * np.sin(angles[1]) * np.sin(angles[0]) - np.sin(\n",
    "        angles[2]) * np.cos(angles[0]), np.cos(angles[2]) * np.sin(angles[1]) * np.cos(angles[0]) + np.sin(\n",
    "        angles[2]) * np.sin(angles[0]), 0],\n",
    "                  [np.sin(angles[2]) * np.cos(angles[1]), np.sin(angles[2]) * np.sin(angles[1]) * np.sin(angles[0]) + np.cos(\n",
    "                      angles[2]) * np.cos(angles[0]), np.sin(angles[2]) * np.sin(angles[1]) * np.cos(angles[0]) - np.cos(\n",
    "                      angles[2]) * np.sin(angles[0]), 0],\n",
    "                  [-np.sin(angles[1]), np.cos(angles[1]) * np.sin(angles[0]), np.cos(angles[1]) * np.cos(angles[0]), 0],\n",
    "                  [0, 0, 0, 1]])\n",
    "    return r\n",
    "\n",
    "def translationToMatrix(translation):\n",
    "    return np.array([[1, 0, 0, translation[0]],\n",
    "                     [0, 1, 0, translation[1]],\n",
    "                     [0, 0, 1, translation[2]],\n",
    "                     [0, 0, 0, 1]])\n",
    "\n",
    "def decomposeMatrix(matrix):\n",
    "    # decompose 4x4 matrix to rotation and translation\n",
    "    # https://stackoverflow.com/questions/1148309/inverting-a-4x4-matrix\n",
    "    translation = [matrix[0][3], matrix[1][3], matrix[2][3]]\n",
    "    rotation = [np.arctan2(matrix[2][1], matrix[2][2]), np.arctan2(-matrix[2][0], np.sqrt(matrix[2][1] ** 2 + matrix[2][2] ** 2)), np.arctan2(matrix[1][0], matrix[0][0])]\n",
    "    return rotation, translation\n",
    "\n",
    "def invertGripperTranslationAndRotation(scenePosition, sceneRotation, gripperPosition, gripperRotation):\n",
    "    gripperRotationMatrix = eulerToRotationMatrix(gripperRotation)\n",
    "    gripperTranslationMatrix = translationToMatrix(gripperPosition)\n",
    "    gripperMatrix = gripperTranslationMatrix @ gripperRotationMatrix\n",
    "\n",
    "    sceneRotationMatrix = eulerToRotationMatrix(sceneRotation)\n",
    "    sceneTranslationMatrix = translationToMatrix(scenePosition)\n",
    "    sceneMatrix = sceneTranslationMatrix @ sceneRotationMatrix\n",
    "\n",
    "    invertedGripperMatrix = np.linalg.inv(sceneMatrix) @ gripperMatrix\n",
    "    invertedGripperRotation, invertedGripperTranslation = decomposeMatrix(invertedGripperMatrix)\n",
    "    return invertedGripperTranslation, invertedGripperRotation\n",
    "\n",
    "def toMatrixAndBack(position, rotation):\n",
    "    rotationMatrix = eulerToRotationMatrix(rotation)\n",
    "    translationMatrix = translationToMatrix(position)\n",
    "    matrix = rotationMatrix @ translationMatrix\n",
    "    rotation, translation = decomposeMatrix(matrix)\n",
    "    return translation, rotation"
   ],
   "metadata": {
    "collapsed": false
   }
  },
  {
   "cell_type": "code",
   "execution_count": 2,
   "outputs": [
    {
     "name": "stdout",
     "output_type": "stream",
     "text": [
      "([0.10411536583867151, 0.20916086087501054, 0.2922528440824898], [0.09999999999999999, 0.19999999999999998, 0.3])\n"
     ]
    }
   ],
   "source": [
    "position = [0.1, 0.2, 0.3]\n",
    "rotation = [0.1, 0.2, 0.3]\n",
    "print(toMatrixAndBack(position, rotation))"
   ],
   "metadata": {
    "collapsed": false
   }
  }
 ],
 "metadata": {
  "kernelspec": {
   "display_name": "Python 3",
   "language": "python",
   "name": "python3"
  },
  "language_info": {
   "codemirror_mode": {
    "name": "ipython",
    "version": 2
   },
   "file_extension": ".py",
   "mimetype": "text/x-python",
   "name": "python",
   "nbconvert_exporter": "python",
   "pygments_lexer": "ipython2",
   "version": "2.7.6"
  }
 },
 "nbformat": 4,
 "nbformat_minor": 0
}
